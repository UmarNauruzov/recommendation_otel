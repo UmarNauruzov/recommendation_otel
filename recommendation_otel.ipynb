{
  "nbformat": 4,
  "nbformat_minor": 0,
  "metadata": {
    "kernelspec": {
      "display_name": "Python 3",
      "language": "python",
      "name": "python3"
    },
    "language_info": {
      "codemirror_mode": {
        "name": "ipython",
        "version": 3
      },
      "file_extension": ".py",
      "mimetype": "text/x-python",
      "name": "python",
      "nbconvert_exporter": "python",
      "pygments_lexer": "ipython3",
      "version": "3.8.8"
    },
    "colab": {
      "provenance": [],
      "include_colab_link": true
    }
  },
  "cells": [
    {
      "cell_type": "markdown",
      "metadata": {
        "id": "view-in-github",
        "colab_type": "text"
      },
      "source": [
        "<a href=\"https://colab.research.google.com/github/UmarNauruzov/recommendation_otel/blob/main/recommendation_otel.ipynb\" target=\"_parent\"><img src=\"https://colab.research.google.com/assets/colab-badge.svg\" alt=\"Open In Colab\"/></a>"
      ]
    },
    {
      "cell_type": "markdown",
      "metadata": {
        "id": "HEuHbHh_gm2M"
      },
      "source": [
        "# Знакомство с датасетом"
      ]
    },
    {
      "cell_type": "markdown",
      "metadata": {
        "id": "zLjOPBRQHwaC"
      },
      "source": [
        "## Получение данных"
      ]
    },
    {
      "cell_type": "code",
      "metadata": {
        "_cell_guid": "b1076dfc-b9ad-4769-8c92-a6c4dae69d19",
        "_uuid": "8f2839f25d086af736a60e9eeb907d3b93b6e0e5",
        "id": "1-UugGMLgm2a"
      },
      "source": [
        "import pandas as pd\n",
        "from pandas import Series,DataFrame\n",
        "import numpy as np"
      ],
      "execution_count": null,
      "outputs": []
    },
    {
      "cell_type": "code",
      "metadata": {
        "_cell_guid": "b1076dfc-b9ad-4769-8c92-a6c4dae69d19",
        "_uuid": "8f2839f25d086af736a60e9eeb907d3b93b6e0e5",
        "id": "4eqyDIm5gm2c"
      },
      "source": [
        "import matplotlib.pyplot as plt\n",
        "import seaborn as sns\n",
        "sns.set_style('whitegrid')\n",
        "%matplotlib inline"
      ],
      "execution_count": null,
      "outputs": []
    },
    {
      "cell_type": "code",
      "source": [
        "from google.colab import drive\n",
        "drive.mount('/content/drive')"
      ],
      "metadata": {
        "colab": {
          "base_uri": "https://localhost:8080/"
        },
        "id": "1sYEIQwJVK_O",
        "outputId": "a321ec28-dbcb-4559-f573-441d3dbc63ec"
      },
      "execution_count": null,
      "outputs": [
        {
          "output_type": "stream",
          "name": "stdout",
          "text": [
            "Mounted at /content/drive\n"
          ]
        }
      ]
    },
    {
      "cell_type": "code",
      "metadata": {
        "id": "iwnPaRTtikGV"
      },
      "source": [
        "import zipfile\n",
        "with zipfile.ZipFile('/content/drive/MyDrive/TRAIN.zip', 'r') as zip_ref:\n",
        "    zip_ref.extractall('/content/data/')"
      ],
      "execution_count": null,
      "outputs": []
    },
    {
      "cell_type": "markdown",
      "metadata": {
        "id": "qS-LFAoJDSYk"
      },
      "source": [
        "Возьмем небольшой фрагмент данных для ознакомления с датасетом и построим некоторые графики для того, чтобы погрузиться в предметную область и иметь некоторое представление об имеющихся данных."
      ]
    },
    {
      "cell_type": "code",
      "metadata": {
        "_cell_guid": "b1076dfc-b9ad-4769-8c92-a6c4dae69d19",
        "_uuid": "8f2839f25d086af736a60e9eeb907d3b93b6e0e5",
        "id": "o2zYySvHgm2e"
      },
      "source": [
        "train_df = pd.read_csv('/content/data/train.csv', nrows=20000)\n",
        "test_df = train_df[10000:]"
      ],
      "execution_count": null,
      "outputs": []
    },
    {
      "cell_type": "code",
      "metadata": {
        "_cell_guid": "b1076dfc-b9ad-4769-8c92-a6c4dae69d19",
        "_uuid": "8f2839f25d086af736a60e9eeb907d3b93b6e0e5",
        "id": "sDvopTsXgm2f",
        "colab": {
          "base_uri": "https://localhost:8080/"
        },
        "outputId": "fbd58874-c775-4f54-8972-d9a7dc7d4553"
      },
      "source": [
        "train_df.info()\n",
        "print(\"----------------------------\")\n",
        "test_df.info()"
      ],
      "execution_count": null,
      "outputs": [
        {
          "output_type": "stream",
          "name": "stdout",
          "text": [
            "<class 'pandas.core.frame.DataFrame'>\n",
            "RangeIndex: 20000 entries, 0 to 19999\n",
            "Data columns (total 24 columns):\n",
            " #   Column                     Non-Null Count  Dtype  \n",
            "---  ------                     --------------  -----  \n",
            " 0   date_time                  20000 non-null  object \n",
            " 1   site_name                  20000 non-null  int64  \n",
            " 2   posa_continent             20000 non-null  int64  \n",
            " 3   user_location_country      20000 non-null  int64  \n",
            " 4   user_location_region       20000 non-null  int64  \n",
            " 5   user_location_city         20000 non-null  int64  \n",
            " 6   orig_destination_distance  12599 non-null  float64\n",
            " 7   user_id                    20000 non-null  int64  \n",
            " 8   is_mobile                  20000 non-null  int64  \n",
            " 9   is_package                 20000 non-null  int64  \n",
            " 10  channel                    20000 non-null  int64  \n",
            " 11  srch_ci                    19983 non-null  object \n",
            " 12  srch_co                    19983 non-null  object \n",
            " 13  srch_adults_cnt            20000 non-null  int64  \n",
            " 14  srch_children_cnt          20000 non-null  int64  \n",
            " 15  srch_rm_cnt                20000 non-null  int64  \n",
            " 16  srch_destination_id        20000 non-null  int64  \n",
            " 17  srch_destination_type_id   20000 non-null  int64  \n",
            " 18  is_booking                 20000 non-null  int64  \n",
            " 19  cnt                        20000 non-null  int64  \n",
            " 20  hotel_continent            20000 non-null  int64  \n",
            " 21  hotel_country              20000 non-null  int64  \n",
            " 22  hotel_market               20000 non-null  int64  \n",
            " 23  hotel_cluster              20000 non-null  int64  \n",
            "dtypes: float64(1), int64(20), object(3)\n",
            "memory usage: 3.7+ MB\n",
            "----------------------------\n",
            "<class 'pandas.core.frame.DataFrame'>\n",
            "RangeIndex: 10000 entries, 10000 to 19999\n",
            "Data columns (total 24 columns):\n",
            " #   Column                     Non-Null Count  Dtype  \n",
            "---  ------                     --------------  -----  \n",
            " 0   date_time                  10000 non-null  object \n",
            " 1   site_name                  10000 non-null  int64  \n",
            " 2   posa_continent             10000 non-null  int64  \n",
            " 3   user_location_country      10000 non-null  int64  \n",
            " 4   user_location_region       10000 non-null  int64  \n",
            " 5   user_location_city         10000 non-null  int64  \n",
            " 6   orig_destination_distance  6362 non-null   float64\n",
            " 7   user_id                    10000 non-null  int64  \n",
            " 8   is_mobile                  10000 non-null  int64  \n",
            " 9   is_package                 10000 non-null  int64  \n",
            " 10  channel                    10000 non-null  int64  \n",
            " 11  srch_ci                    9991 non-null   object \n",
            " 12  srch_co                    9991 non-null   object \n",
            " 13  srch_adults_cnt            10000 non-null  int64  \n",
            " 14  srch_children_cnt          10000 non-null  int64  \n",
            " 15  srch_rm_cnt                10000 non-null  int64  \n",
            " 16  srch_destination_id        10000 non-null  int64  \n",
            " 17  srch_destination_type_id   10000 non-null  int64  \n",
            " 18  is_booking                 10000 non-null  int64  \n",
            " 19  cnt                        10000 non-null  int64  \n",
            " 20  hotel_continent            10000 non-null  int64  \n",
            " 21  hotel_country              10000 non-null  int64  \n",
            " 22  hotel_market               10000 non-null  int64  \n",
            " 23  hotel_cluster              10000 non-null  int64  \n",
            "dtypes: float64(1), int64(20), object(3)\n",
            "memory usage: 1.8+ MB\n"
          ]
        }
      ]
    },
    {
      "cell_type": "code",
      "metadata": {
        "_cell_guid": "b1076dfc-b9ad-4769-8c92-a6c4dae69d19",
        "_uuid": "8f2839f25d086af736a60e9eeb907d3b93b6e0e5",
        "id": "8cHUYBVXgm2h",
        "colab": {
          "base_uri": "https://localhost:8080/",
          "height": 473
        },
        "outputId": "be20ed1b-d093-4a17-aa7a-4f46e6e78595"
      },
      "source": [
        "# предварительный просмотр данных\n",
        "train_df.head()"
      ],
      "execution_count": null,
      "outputs": [
        {
          "output_type": "execute_result",
          "data": {
            "text/plain": [
              "             date_time  site_name  posa_continent  user_location_country  \\\n",
              "0  2014-07-15 11:37:29          2               3                    215   \n",
              "1  2013-03-13 17:23:43          2               3                     66   \n",
              "2  2013-04-30 21:59:08         24               2                      3   \n",
              "3  2013-11-22 13:48:19          2               3                     66   \n",
              "4  2014-08-10 18:52:36         11               3                    205   \n",
              "\n",
              "   user_location_region  user_location_city  orig_destination_distance  \\\n",
              "0                   611               21634                        NaN   \n",
              "1                   392               32518                   143.4471   \n",
              "2                    60                4699                        NaN   \n",
              "3                   322               29466                   908.9419   \n",
              "4                   155               53927                    87.6362   \n",
              "\n",
              "   user_id  is_mobile  is_package  ...  srch_children_cnt srch_rm_cnt  \\\n",
              "0   177002          0           1  ...                  0           2   \n",
              "1   190606          0           0  ...                  0           1   \n",
              "2   208044          0           0  ...                  0           1   \n",
              "3   268453          0           0  ...                  0           1   \n",
              "4   204117          0           0  ...                  0           1   \n",
              "\n",
              "  srch_destination_id  srch_destination_type_id  is_booking  cnt  \\\n",
              "0                8271                         1           0    1   \n",
              "1                8267                         1           0    3   \n",
              "2                8255                         1           0    1   \n",
              "3                8267                         1           0    1   \n",
              "4               12943                         5           0    1   \n",
              "\n",
              "   hotel_continent  hotel_country  hotel_market  hotel_cluster  \n",
              "0                2             50           696             21  \n",
              "1                2             50           675             17  \n",
              "2                6             77            20              9  \n",
              "3                2             50           675             55  \n",
              "4                2            198           399              6  \n",
              "\n",
              "[5 rows x 24 columns]"
            ],
            "text/html": [
              "\n",
              "  <div id=\"df-f19cd22f-b1a5-41db-a176-c56b101dcadb\">\n",
              "    <div class=\"colab-df-container\">\n",
              "      <div>\n",
              "<style scoped>\n",
              "    .dataframe tbody tr th:only-of-type {\n",
              "        vertical-align: middle;\n",
              "    }\n",
              "\n",
              "    .dataframe tbody tr th {\n",
              "        vertical-align: top;\n",
              "    }\n",
              "\n",
              "    .dataframe thead th {\n",
              "        text-align: right;\n",
              "    }\n",
              "</style>\n",
              "<table border=\"1\" class=\"dataframe\">\n",
              "  <thead>\n",
              "    <tr style=\"text-align: right;\">\n",
              "      <th></th>\n",
              "      <th>date_time</th>\n",
              "      <th>site_name</th>\n",
              "      <th>posa_continent</th>\n",
              "      <th>user_location_country</th>\n",
              "      <th>user_location_region</th>\n",
              "      <th>user_location_city</th>\n",
              "      <th>orig_destination_distance</th>\n",
              "      <th>user_id</th>\n",
              "      <th>is_mobile</th>\n",
              "      <th>is_package</th>\n",
              "      <th>...</th>\n",
              "      <th>srch_children_cnt</th>\n",
              "      <th>srch_rm_cnt</th>\n",
              "      <th>srch_destination_id</th>\n",
              "      <th>srch_destination_type_id</th>\n",
              "      <th>is_booking</th>\n",
              "      <th>cnt</th>\n",
              "      <th>hotel_continent</th>\n",
              "      <th>hotel_country</th>\n",
              "      <th>hotel_market</th>\n",
              "      <th>hotel_cluster</th>\n",
              "    </tr>\n",
              "  </thead>\n",
              "  <tbody>\n",
              "    <tr>\n",
              "      <th>0</th>\n",
              "      <td>2014-07-15 11:37:29</td>\n",
              "      <td>2</td>\n",
              "      <td>3</td>\n",
              "      <td>215</td>\n",
              "      <td>611</td>\n",
              "      <td>21634</td>\n",
              "      <td>NaN</td>\n",
              "      <td>177002</td>\n",
              "      <td>0</td>\n",
              "      <td>1</td>\n",
              "      <td>...</td>\n",
              "      <td>0</td>\n",
              "      <td>2</td>\n",
              "      <td>8271</td>\n",
              "      <td>1</td>\n",
              "      <td>0</td>\n",
              "      <td>1</td>\n",
              "      <td>2</td>\n",
              "      <td>50</td>\n",
              "      <td>696</td>\n",
              "      <td>21</td>\n",
              "    </tr>\n",
              "    <tr>\n",
              "      <th>1</th>\n",
              "      <td>2013-03-13 17:23:43</td>\n",
              "      <td>2</td>\n",
              "      <td>3</td>\n",
              "      <td>66</td>\n",
              "      <td>392</td>\n",
              "      <td>32518</td>\n",
              "      <td>143.4471</td>\n",
              "      <td>190606</td>\n",
              "      <td>0</td>\n",
              "      <td>0</td>\n",
              "      <td>...</td>\n",
              "      <td>0</td>\n",
              "      <td>1</td>\n",
              "      <td>8267</td>\n",
              "      <td>1</td>\n",
              "      <td>0</td>\n",
              "      <td>3</td>\n",
              "      <td>2</td>\n",
              "      <td>50</td>\n",
              "      <td>675</td>\n",
              "      <td>17</td>\n",
              "    </tr>\n",
              "    <tr>\n",
              "      <th>2</th>\n",
              "      <td>2013-04-30 21:59:08</td>\n",
              "      <td>24</td>\n",
              "      <td>2</td>\n",
              "      <td>3</td>\n",
              "      <td>60</td>\n",
              "      <td>4699</td>\n",
              "      <td>NaN</td>\n",
              "      <td>208044</td>\n",
              "      <td>0</td>\n",
              "      <td>0</td>\n",
              "      <td>...</td>\n",
              "      <td>0</td>\n",
              "      <td>1</td>\n",
              "      <td>8255</td>\n",
              "      <td>1</td>\n",
              "      <td>0</td>\n",
              "      <td>1</td>\n",
              "      <td>6</td>\n",
              "      <td>77</td>\n",
              "      <td>20</td>\n",
              "      <td>9</td>\n",
              "    </tr>\n",
              "    <tr>\n",
              "      <th>3</th>\n",
              "      <td>2013-11-22 13:48:19</td>\n",
              "      <td>2</td>\n",
              "      <td>3</td>\n",
              "      <td>66</td>\n",
              "      <td>322</td>\n",
              "      <td>29466</td>\n",
              "      <td>908.9419</td>\n",
              "      <td>268453</td>\n",
              "      <td>0</td>\n",
              "      <td>0</td>\n",
              "      <td>...</td>\n",
              "      <td>0</td>\n",
              "      <td>1</td>\n",
              "      <td>8267</td>\n",
              "      <td>1</td>\n",
              "      <td>0</td>\n",
              "      <td>1</td>\n",
              "      <td>2</td>\n",
              "      <td>50</td>\n",
              "      <td>675</td>\n",
              "      <td>55</td>\n",
              "    </tr>\n",
              "    <tr>\n",
              "      <th>4</th>\n",
              "      <td>2014-08-10 18:52:36</td>\n",
              "      <td>11</td>\n",
              "      <td>3</td>\n",
              "      <td>205</td>\n",
              "      <td>155</td>\n",
              "      <td>53927</td>\n",
              "      <td>87.6362</td>\n",
              "      <td>204117</td>\n",
              "      <td>0</td>\n",
              "      <td>0</td>\n",
              "      <td>...</td>\n",
              "      <td>0</td>\n",
              "      <td>1</td>\n",
              "      <td>12943</td>\n",
              "      <td>5</td>\n",
              "      <td>0</td>\n",
              "      <td>1</td>\n",
              "      <td>2</td>\n",
              "      <td>198</td>\n",
              "      <td>399</td>\n",
              "      <td>6</td>\n",
              "    </tr>\n",
              "  </tbody>\n",
              "</table>\n",
              "<p>5 rows × 24 columns</p>\n",
              "</div>\n",
              "      <button class=\"colab-df-convert\" onclick=\"convertToInteractive('df-f19cd22f-b1a5-41db-a176-c56b101dcadb')\"\n",
              "              title=\"Convert this dataframe to an interactive table.\"\n",
              "              style=\"display:none;\">\n",
              "        \n",
              "  <svg xmlns=\"http://www.w3.org/2000/svg\" height=\"24px\"viewBox=\"0 0 24 24\"\n",
              "       width=\"24px\">\n",
              "    <path d=\"M0 0h24v24H0V0z\" fill=\"none\"/>\n",
              "    <path d=\"M18.56 5.44l.94 2.06.94-2.06 2.06-.94-2.06-.94-.94-2.06-.94 2.06-2.06.94zm-11 1L8.5 8.5l.94-2.06 2.06-.94-2.06-.94L8.5 2.5l-.94 2.06-2.06.94zm10 10l.94 2.06.94-2.06 2.06-.94-2.06-.94-.94-2.06-.94 2.06-2.06.94z\"/><path d=\"M17.41 7.96l-1.37-1.37c-.4-.4-.92-.59-1.43-.59-.52 0-1.04.2-1.43.59L10.3 9.45l-7.72 7.72c-.78.78-.78 2.05 0 2.83L4 21.41c.39.39.9.59 1.41.59.51 0 1.02-.2 1.41-.59l7.78-7.78 2.81-2.81c.8-.78.8-2.07 0-2.86zM5.41 20L4 18.59l7.72-7.72 1.47 1.35L5.41 20z\"/>\n",
              "  </svg>\n",
              "      </button>\n",
              "      \n",
              "  <style>\n",
              "    .colab-df-container {\n",
              "      display:flex;\n",
              "      flex-wrap:wrap;\n",
              "      gap: 12px;\n",
              "    }\n",
              "\n",
              "    .colab-df-convert {\n",
              "      background-color: #E8F0FE;\n",
              "      border: none;\n",
              "      border-radius: 50%;\n",
              "      cursor: pointer;\n",
              "      display: none;\n",
              "      fill: #1967D2;\n",
              "      height: 32px;\n",
              "      padding: 0 0 0 0;\n",
              "      width: 32px;\n",
              "    }\n",
              "\n",
              "    .colab-df-convert:hover {\n",
              "      background-color: #E2EBFA;\n",
              "      box-shadow: 0px 1px 2px rgba(60, 64, 67, 0.3), 0px 1px 3px 1px rgba(60, 64, 67, 0.15);\n",
              "      fill: #174EA6;\n",
              "    }\n",
              "\n",
              "    [theme=dark] .colab-df-convert {\n",
              "      background-color: #3B4455;\n",
              "      fill: #D2E3FC;\n",
              "    }\n",
              "\n",
              "    [theme=dark] .colab-df-convert:hover {\n",
              "      background-color: #434B5C;\n",
              "      box-shadow: 0px 1px 3px 1px rgba(0, 0, 0, 0.15);\n",
              "      filter: drop-shadow(0px 1px 2px rgba(0, 0, 0, 0.3));\n",
              "      fill: #FFFFFF;\n",
              "    }\n",
              "  </style>\n",
              "\n",
              "      <script>\n",
              "        const buttonEl =\n",
              "          document.querySelector('#df-f19cd22f-b1a5-41db-a176-c56b101dcadb button.colab-df-convert');\n",
              "        buttonEl.style.display =\n",
              "          google.colab.kernel.accessAllowed ? 'block' : 'none';\n",
              "\n",
              "        async function convertToInteractive(key) {\n",
              "          const element = document.querySelector('#df-f19cd22f-b1a5-41db-a176-c56b101dcadb');\n",
              "          const dataTable =\n",
              "            await google.colab.kernel.invokeFunction('convertToInteractive',\n",
              "                                                     [key], {});\n",
              "          if (!dataTable) return;\n",
              "\n",
              "          const docLinkHtml = 'Like what you see? Visit the ' +\n",
              "            '<a target=\"_blank\" href=https://colab.research.google.com/notebooks/data_table.ipynb>data table notebook</a>'\n",
              "            + ' to learn more about interactive tables.';\n",
              "          element.innerHTML = '';\n",
              "          dataTable['output_type'] = 'display_data';\n",
              "          await google.colab.output.renderOutput(dataTable, element);\n",
              "          const docLink = document.createElement('div');\n",
              "          docLink.innerHTML = docLinkHtml;\n",
              "          element.appendChild(docLink);\n",
              "        }\n",
              "      </script>\n",
              "    </div>\n",
              "  </div>\n",
              "  "
            ]
          },
          "metadata": {},
          "execution_count": 7
        }
      ]
    },
    {
      "cell_type": "markdown",
      "metadata": {
        "id": "Hpuj4IfjwCjh"
      },
      "source": [
        "Описание полей датасета\n",
        "\n",
        "\n",
        "|Column name|Description|Data type|\n",
        "|-----------|-----------|---------|\n",
        "|date_time|Timestamp|string|\n",
        "|site_name|ID of the Expedia point of sale (i.e. Expedia.com, Expedia.co.uk, Expedia.co.jp, ...)|int|\n",
        "|posa_continent|ID of continent associated with site_name|int|\n",
        "|user_location_country|The ID of the country the customer is located|int|\n",
        "|user_location_region|The ID of the region the customer is located|int|\n",
        "|user_location_city|The ID of the city the customer is located|int|\n",
        "|orig_destination_distance|Physical distance between a hotel and a customer at the time of search. A null means the distance could not be calculated|double|\n",
        "|user_id|ID of user|int|\n",
        "|is_mobile|1 when a user connected from a mobile device, 0 otherwise|tinyint|\n",
        "|is_package|1 if the click/booking was generated as a part of a package (i.e. combined with a flight), 0 otherwise|int|\n",
        "|channel|ID of a marketing channel|int|\n",
        "|srch_ci|Checkin date|string|\n",
        "|srch_co|Checkout date|string|\n",
        "|srch_adults_cnt|The number of adults specified in the hotel room|int|\n",
        "|srch_children_cnt|The number of (extra occupancy) children specified in the hotel room|int|\n",
        "|srch_rm_cnt|The number of hotel rooms specified in the search|int|\n",
        "|srch_destination_id|ID of the destination where the hotel search was performed|int|\n",
        "|srch_destination_type_id|Type of destination|int|\n",
        "|hotel_continent|Hotel continent|int|\n",
        "|hotel_country|Hotel country|int|\n",
        "|hotel_market|Hotel market|int|\n",
        "|is_booking|1 if a booking, 0 if a click|tinyint|\n",
        "|cnt|Numer of similar events in the context of the same user session|bigint|\n",
        "|hotel_cluster|ID of a hotel cluster|int|"
      ]
    },
    {
      "cell_type": "markdown",
      "metadata": {
        "id": "veh_j7R2gm2i"
      },
      "source": [
        "## Предобработка данных\n",
        "\n",
        "В качестве первого шага очистим данные, выполним предварительную обработку и проведем разведочный анализ для того, чтобы сформировать представление о процедуре выбора отеля.\n",
        "\n",
        "\n",
        "* Удалим пользователей, которые не забронировали отель\n",
        "* Определим запросы пользователей, относящиеся к конкретному типу направления (месту пребывания)\n",
        "* orig_destination_distance содержит значения NaN\n",
        "* Рассмотрим даты заезда и выезда, чтобы узнать продолжительность пребывания для каждой записи в тренировочном наборе.\n"
      ]
    },
    {
      "cell_type": "code",
      "source": [
        "import warnings\n",
        "warnings.filterwarnings('ignore')\n",
        "from matplotlib import rcParams\n",
        "import pandas as pd\n",
        "\n",
        "# Plot \n",
        "bookings_df = train_df[train_df[\"is_booking\"] == 1]\n",
        "\n",
        "# figure size in inches\n",
        "rcParams['figure.figsize'] = 20,10\n",
        "\n",
        "# Из каких стран чаще всего едут клиенты?\n",
        "country_counts = bookings_df['user_location_country'].value_counts().reset_index()\n",
        "sns.countplot(x='index', data=country_counts, order=country_counts['user_location_country'].index)\n",
        "plt.xticks(rotation=90)\n"
      ],
      "metadata": {
        "id": "j2okXq2dXT_C"
      },
      "execution_count": null,
      "outputs": []
    },
    {
      "cell_type": "code",
      "metadata": {
        "id": "aEWchM3rlNcR"
      },
      "source": [
        "import warnings\n",
        "warnings.filterwarnings('ignore')\n",
        "from matplotlib import rcParams\n",
        "\n",
        "# Plot \n",
        "bookings_df = train_df[train_df[\"is_booking\"] == 1]\n",
        "\n",
        "# figure size in inches\n",
        "rcParams['figure.figsize'] = 20,10\n",
        "# Из каких стран чаще всего едут клиенты?\n",
        "#sns.countplot(data=bookings_df, x='user_location_country', order=bookings_df['user_location_country'].value_counts().index)\n",
        "sns.countplot(x=bookings_df['user_location_country'], order = bookings_df['user_location_country'].value_counts().index)\n",
        "plt.xticks(rotation=90)"
      ],
      "execution_count": null,
      "outputs": []
    },
    {
      "cell_type": "code",
      "metadata": {
        "_cell_guid": "79c7e3d0-c299-4dcb-8224-4455121ee9b0",
        "_uuid": "d629ff2d2480ee46fbb7e2d37f6b5fab8052498a",
        "id": "JlGt6FfDgm2j"
      },
      "source": [
        "#В какие страны чаще всего ездят клиенты? \n",
        "sns.countplot(data=bookings_df, x='hotel_country', order = bookings_df['hotel_country'].value_counts().index)\n",
        "plt.xticks(rotation=90)"
      ],
      "execution_count": null,
      "outputs": []
    },
    {
      "cell_type": "code",
      "metadata": {
        "id": "gf7PRJLZndCx"
      },
      "source": [
        "# Куда едет большинство клиентов из определенной страны?\n",
        "user_country_id = 66\n",
        "country_customers = train_df[train_df[\"user_location_country\"] == user_country_id]\n",
        "sns.countplot(data=country_customers, x='hotel_country', order=country_customers['hotel_country'].value_counts().index)\n",
        "plt.xticks(rotation=90)"
      ],
      "execution_count": null,
      "outputs": []
    },
    {
      "cell_type": "code",
      "metadata": {
        "id": "7bbtoskyqeLh"
      },
      "source": [
        "# График частот для каждого hotel_clusters\n",
        "sns.countplot(data=train_df, x=\"hotel_cluster\", order = train_df[\"hotel_cluster\"].value_counts().index)\n",
        "plt.xticks(rotation=90)"
      ],
      "execution_count": null,
      "outputs": []
    },
    {
      "cell_type": "code",
      "metadata": {
        "id": "lRJoXM8QrAcr"
      },
      "source": [
        "# Отели какого кластера наиболее часто бронируют клиенты из определенной страны?\n",
        "customer_clusters = train_df[train_df[\"user_location_country\"] == user_country_id][\"hotel_cluster\"]\n",
        "sns.countplot(data=train_df[train_df[\"user_location_country\"] == user_country_id], x='hotel_cluster', order=train_df[train_df[\"user_location_country\"] == user_country_id]['hotel_cluster'].value_counts().index)\n",
        "#sns.countplot(customer_clusters, order = customer_clusters.value_counts().index)\n",
        "plt.xticks(rotation=90)"
      ],
      "execution_count": null,
      "outputs": []
    },
    {
      "cell_type": "code",
      "metadata": {
        "id": "HSvz5Y2Krd68"
      },
      "source": [
        "# Какие гостиничные кластеры наиболее часто встречаются в стране?\n",
        "country_id = 50\n",
        "country_clusters = train_df[train_df[\"hotel_country\"] == country_id][\"hotel_cluster\"]\n",
        "sns.countplot(x= country_clusters, order = country_clusters.value_counts().index)\n",
        "plt.xticks(rotation=90)"
      ],
      "execution_count": null,
      "outputs": []
    },
    {
      "cell_type": "code",
      "metadata": {
        "id": "3wyoGOZAxO7I"
      },
      "source": [
        "# Частота для каждого posa_continent\n",
        "sns.countplot(data=train_df, x='posa_continent', order=[0,1,2,3,4])"
      ],
      "execution_count": null,
      "outputs": []
    },
    {
      "cell_type": "code",
      "metadata": {
        "id": "sm1Z6eMNxqTa"
      },
      "source": [
        "# Частота для каждого posa_continent с разбивкой по hotel_continent\n",
        "sns.countplot(data=train_df, x= 'posa_continent', order=[0,1,2,3,4], hue=train_df['hotel_continent'])"
      ],
      "execution_count": null,
      "outputs": []
    },
    {
      "cell_type": "code",
      "metadata": {
        "_cell_guid": "79c7e3d0-c299-4dcb-8224-4455121ee9b0",
        "_uuid": "d629ff2d2480ee46fbb7e2d37f6b5fab8052498a",
        "id": "RGM2WLVxgm2q"
      },
      "source": [
        "# Частота для каждого hotel_continent\n",
        "sns.countplot(x ='hotel_continent', data=train_df,order=[0,2,3,4,5,6])"
      ],
      "execution_count": null,
      "outputs": []
    },
    {
      "cell_type": "code",
      "metadata": {
        "_cell_guid": "79c7e3d0-c299-4dcb-8224-4455121ee9b0",
        "_uuid": "d629ff2d2480ee46fbb7e2d37f6b5fab8052498a",
        "id": "xyTakvH3gm2s"
      },
      "source": [
        "# Частота для каждого hotel_continent с разбивкой по posa_continent\n",
        "sns.countplot(x='hotel_continent', hue='posa_continent', data=train_df, order=[0,2,3,4,5,6])"
      ],
      "execution_count": null,
      "outputs": []
    },
    {
      "cell_type": "code",
      "metadata": {
        "_cell_guid": "79c7e3d0-c299-4dcb-8224-4455121ee9b0",
        "_uuid": "d629ff2d2480ee46fbb7e2d37f6b5fab8052498a",
        "id": "Zl4ruHa-gm2t"
      },
      "source": [
        "# Частота бронирований с мобильных телефонов\n",
        "sns.countplot(x='is_mobile',data=bookings_df, order=[0,1])"
      ],
      "execution_count": null,
      "outputs": []
    },
    {
      "cell_type": "code",
      "metadata": {
        "_cell_guid": "79c7e3d0-c299-4dcb-8224-4455121ee9b0",
        "_uuid": "d629ff2d2480ee46fbb7e2d37f6b5fab8052498a",
        "id": "da1KC_7Egm2u"
      },
      "source": [
        "# Частота бронирований отелей вместе с другими услугами (is_package)\n",
        "sns.countplot(x='is_package',data=bookings_df, order=[0,1])"
      ],
      "execution_count": null,
      "outputs": []
    },
    {
      "cell_type": "code",
      "metadata": {
        "_cell_guid": "79c7e3d0-c299-4dcb-8224-4455121ee9b0",
        "_uuid": "d629ff2d2480ee46fbb7e2d37f6b5fab8052498a",
        "id": "EQpi2lw8gm2u"
      },
      "source": [
        "# Наиболее влиятельный канал\n",
        "sns.countplot(x='channel', order=list(range(0,10)), data=train_df)"
      ],
      "execution_count": null,
      "outputs": []
    },
    {
      "cell_type": "code",
      "metadata": {
        "id": "_Lcvpmdtgm2v"
      },
      "source": [
        "# heatmap\n",
        "sns.heatmap(train_df.corr(),cmap='coolwarm', annot=True,linewidths=2)"
      ],
      "execution_count": null,
      "outputs": []
    },
    {
      "cell_type": "markdown",
      "metadata": {
        "id": "2jy2Dlujgm2v"
      },
      "source": [
        "## Формирование новых признаков\n",
        "\n",
        "Зачастую бывает удобно сформировать новые признаки на основе уже имеющихся. Эти новые признаки, возможно, будут более ценны с точки зрения использования в предсказании. \n",
        "\n",
        "**Дополнительные признаки на основе даты**\n",
        "* stay_dur: количество дней пребывания\n",
        "* no_of_days_bet_booking: количество дней между бронированием и\n",
        "  * Cin_day: Днем Check-in\n",
        "  * Cin_month: Месяцем Check-in\n",
        "  * Cin_year: Годом Check-in"
      ]
    },
    {
      "cell_type": "code",
      "metadata": {
        "id": "gPe63a3vgm2w"
      },
      "source": [
        "# Function to convert date object into relevant attributes\n",
        "def convert_date_into_days(df):\n",
        "    df['srch_ci'] = pd.to_datetime(df['srch_ci'])\n",
        "    df['srch_co'] = pd.to_datetime(df['srch_co'])\n",
        "    df['date_time'] = pd.to_datetime(df['date_time'])\n",
        "    \n",
        "    df['stay_dur'] = (df['srch_co'] - df['srch_ci']).astype('timedelta64[D]')\n",
        "    df['no_of_days_bet_booking'] = (df['srch_ci'] - df['date_time']).astype('timedelta64[D]')\n",
        "    \n",
        "    # For hotel check-in\n",
        "    # Month, Year, Day\n",
        "    df['Cin_day'] = df[\"srch_ci\"].apply(lambda x: x.day)\n",
        "    df['Cin_month'] = df[\"srch_ci\"].apply(lambda x: x.month)\n",
        "    df['Cin_year'] = df[\"srch_ci\"].apply(lambda x: x.year)\n",
        "  "
      ],
      "execution_count": null,
      "outputs": []
    },
    {
      "cell_type": "code",
      "source": [
        "convert_date_into_days(train_df)\n",
        "convert_date_into_days(test_df)"
      ],
      "metadata": {
        "id": "_DNKWXrDThAV"
      },
      "execution_count": null,
      "outputs": []
    },
    {
      "cell_type": "code",
      "metadata": {
        "id": "DDXVmDqdgm2x"
      },
      "source": [
        "# Количество бронировний по месяцам\n",
        "sns.countplot(x='Cin_month',data=train_df[train_df[\"is_booking\"] == 1],order=list(range(1,13)))"
      ],
      "execution_count": null,
      "outputs": []
    },
    {
      "cell_type": "code",
      "metadata": {
        "id": "jFq2aFxUgm2y"
      },
      "source": [
        "# Количество бронировний по дням месяца\n",
        "sns.countplot(x='Cin_day',data=train_df[train_df[\"is_booking\"] == 1],order=list(range(1,32)))"
      ],
      "execution_count": null,
      "outputs": []
    },
    {
      "cell_type": "code",
      "metadata": {
        "id": "2_rgRggqgm2z"
      },
      "source": [
        "# Частоты длительностей пребывания\n",
        "sns.countplot(x='stay_dur',data=train_df[train_df[\"is_booking\"] == 1])"
      ],
      "execution_count": null,
      "outputs": []
    },
    {
      "cell_type": "code",
      "metadata": {
        "id": "MRAllgeqgm2z",
        "colab": {
          "base_uri": "https://localhost:8080/"
        },
        "outputId": "294a257b-b431-484d-8ec8-9bf382818a2a"
      },
      "source": [
        "# Уберем ненужные признаки, которые не будут полезны для анализа и предсказания\n",
        "#test_user_id = test_df['user_id']\n",
        "columns = ['date_time', 'srch_ci','user_id','srch_destination_type_id','srch_destination_id', 'site_name', 'user_location_region', 'user_location_city', \n",
        "                              'user_id', 'srch_co', 'srch_adults_cnt', 'srch_children_cnt', 'srch_rm_cnt']\n",
        "train_df.drop(columns=columns,axis=1,inplace=True)\n",
        "test_df.drop(columns=columns,axis=1,inplace=True)"
      ],
      "execution_count": null,
      "outputs": [
        {
          "output_type": "stream",
          "name": "stderr",
          "text": [
            "<ipython-input-11-a7920c45ccc1>:6: SettingWithCopyWarning: \n",
            "A value is trying to be set on a copy of a slice from a DataFrame\n",
            "\n",
            "See the caveats in the documentation: https://pandas.pydata.org/pandas-docs/stable/user_guide/indexing.html#returning-a-view-versus-a-copy\n",
            "  test_df.drop(columns=columns,axis=1,inplace=True)\n"
          ]
        }
      ]
    },
    {
      "cell_type": "code",
      "metadata": {
        "id": "XYAoP0Rjgm20",
        "colab": {
          "base_uri": "https://localhost:8080/",
          "height": 582
        },
        "outputId": "be8bea90-8d12-4650-80cf-18a9605287e2"
      },
      "source": [
        "# Определим процент значений NaN по каждому признаку\n",
        "total = train_df.isnull().sum().sort_values(ascending=False)\n",
        "percent = (train_df.isnull().sum()/train_df['hotel_cluster'].count()).sort_values(ascending=False)\n",
        "missing_data = pd.concat([total, percent], axis=1, keys=['Total', 'Percent'])\n",
        "missing_data"
      ],
      "execution_count": null,
      "outputs": [
        {
          "output_type": "execute_result",
          "data": {
            "text/plain": [
              "                           Total  Percent\n",
              "orig_destination_distance   7401  0.37005\n",
              "Cin_year                      17  0.00085\n",
              "Cin_month                     17  0.00085\n",
              "Cin_day                       17  0.00085\n",
              "no_of_days_bet_booking        17  0.00085\n",
              "stay_dur                      17  0.00085\n",
              "hotel_country                  0  0.00000\n",
              "hotel_cluster                  0  0.00000\n",
              "hotel_market                   0  0.00000\n",
              "posa_continent                 0  0.00000\n",
              "user_location_country          0  0.00000\n",
              "cnt                            0  0.00000\n",
              "is_booking                     0  0.00000\n",
              "channel                        0  0.00000\n",
              "is_package                     0  0.00000\n",
              "is_mobile                      0  0.00000\n",
              "hotel_continent                0  0.00000"
            ],
            "text/html": [
              "\n",
              "  <div id=\"df-d5ec1c6d-db51-4816-a10d-73a6b3dc0026\">\n",
              "    <div class=\"colab-df-container\">\n",
              "      <div>\n",
              "<style scoped>\n",
              "    .dataframe tbody tr th:only-of-type {\n",
              "        vertical-align: middle;\n",
              "    }\n",
              "\n",
              "    .dataframe tbody tr th {\n",
              "        vertical-align: top;\n",
              "    }\n",
              "\n",
              "    .dataframe thead th {\n",
              "        text-align: right;\n",
              "    }\n",
              "</style>\n",
              "<table border=\"1\" class=\"dataframe\">\n",
              "  <thead>\n",
              "    <tr style=\"text-align: right;\">\n",
              "      <th></th>\n",
              "      <th>Total</th>\n",
              "      <th>Percent</th>\n",
              "    </tr>\n",
              "  </thead>\n",
              "  <tbody>\n",
              "    <tr>\n",
              "      <th>orig_destination_distance</th>\n",
              "      <td>7401</td>\n",
              "      <td>0.37005</td>\n",
              "    </tr>\n",
              "    <tr>\n",
              "      <th>Cin_year</th>\n",
              "      <td>17</td>\n",
              "      <td>0.00085</td>\n",
              "    </tr>\n",
              "    <tr>\n",
              "      <th>Cin_month</th>\n",
              "      <td>17</td>\n",
              "      <td>0.00085</td>\n",
              "    </tr>\n",
              "    <tr>\n",
              "      <th>Cin_day</th>\n",
              "      <td>17</td>\n",
              "      <td>0.00085</td>\n",
              "    </tr>\n",
              "    <tr>\n",
              "      <th>no_of_days_bet_booking</th>\n",
              "      <td>17</td>\n",
              "      <td>0.00085</td>\n",
              "    </tr>\n",
              "    <tr>\n",
              "      <th>stay_dur</th>\n",
              "      <td>17</td>\n",
              "      <td>0.00085</td>\n",
              "    </tr>\n",
              "    <tr>\n",
              "      <th>hotel_country</th>\n",
              "      <td>0</td>\n",
              "      <td>0.00000</td>\n",
              "    </tr>\n",
              "    <tr>\n",
              "      <th>hotel_cluster</th>\n",
              "      <td>0</td>\n",
              "      <td>0.00000</td>\n",
              "    </tr>\n",
              "    <tr>\n",
              "      <th>hotel_market</th>\n",
              "      <td>0</td>\n",
              "      <td>0.00000</td>\n",
              "    </tr>\n",
              "    <tr>\n",
              "      <th>posa_continent</th>\n",
              "      <td>0</td>\n",
              "      <td>0.00000</td>\n",
              "    </tr>\n",
              "    <tr>\n",
              "      <th>user_location_country</th>\n",
              "      <td>0</td>\n",
              "      <td>0.00000</td>\n",
              "    </tr>\n",
              "    <tr>\n",
              "      <th>cnt</th>\n",
              "      <td>0</td>\n",
              "      <td>0.00000</td>\n",
              "    </tr>\n",
              "    <tr>\n",
              "      <th>is_booking</th>\n",
              "      <td>0</td>\n",
              "      <td>0.00000</td>\n",
              "    </tr>\n",
              "    <tr>\n",
              "      <th>channel</th>\n",
              "      <td>0</td>\n",
              "      <td>0.00000</td>\n",
              "    </tr>\n",
              "    <tr>\n",
              "      <th>is_package</th>\n",
              "      <td>0</td>\n",
              "      <td>0.00000</td>\n",
              "    </tr>\n",
              "    <tr>\n",
              "      <th>is_mobile</th>\n",
              "      <td>0</td>\n",
              "      <td>0.00000</td>\n",
              "    </tr>\n",
              "    <tr>\n",
              "      <th>hotel_continent</th>\n",
              "      <td>0</td>\n",
              "      <td>0.00000</td>\n",
              "    </tr>\n",
              "  </tbody>\n",
              "</table>\n",
              "</div>\n",
              "      <button class=\"colab-df-convert\" onclick=\"convertToInteractive('df-d5ec1c6d-db51-4816-a10d-73a6b3dc0026')\"\n",
              "              title=\"Convert this dataframe to an interactive table.\"\n",
              "              style=\"display:none;\">\n",
              "        \n",
              "  <svg xmlns=\"http://www.w3.org/2000/svg\" height=\"24px\"viewBox=\"0 0 24 24\"\n",
              "       width=\"24px\">\n",
              "    <path d=\"M0 0h24v24H0V0z\" fill=\"none\"/>\n",
              "    <path d=\"M18.56 5.44l.94 2.06.94-2.06 2.06-.94-2.06-.94-.94-2.06-.94 2.06-2.06.94zm-11 1L8.5 8.5l.94-2.06 2.06-.94-2.06-.94L8.5 2.5l-.94 2.06-2.06.94zm10 10l.94 2.06.94-2.06 2.06-.94-2.06-.94-.94-2.06-.94 2.06-2.06.94z\"/><path d=\"M17.41 7.96l-1.37-1.37c-.4-.4-.92-.59-1.43-.59-.52 0-1.04.2-1.43.59L10.3 9.45l-7.72 7.72c-.78.78-.78 2.05 0 2.83L4 21.41c.39.39.9.59 1.41.59.51 0 1.02-.2 1.41-.59l7.78-7.78 2.81-2.81c.8-.78.8-2.07 0-2.86zM5.41 20L4 18.59l7.72-7.72 1.47 1.35L5.41 20z\"/>\n",
              "  </svg>\n",
              "      </button>\n",
              "      \n",
              "  <style>\n",
              "    .colab-df-container {\n",
              "      display:flex;\n",
              "      flex-wrap:wrap;\n",
              "      gap: 12px;\n",
              "    }\n",
              "\n",
              "    .colab-df-convert {\n",
              "      background-color: #E8F0FE;\n",
              "      border: none;\n",
              "      border-radius: 50%;\n",
              "      cursor: pointer;\n",
              "      display: none;\n",
              "      fill: #1967D2;\n",
              "      height: 32px;\n",
              "      padding: 0 0 0 0;\n",
              "      width: 32px;\n",
              "    }\n",
              "\n",
              "    .colab-df-convert:hover {\n",
              "      background-color: #E2EBFA;\n",
              "      box-shadow: 0px 1px 2px rgba(60, 64, 67, 0.3), 0px 1px 3px 1px rgba(60, 64, 67, 0.15);\n",
              "      fill: #174EA6;\n",
              "    }\n",
              "\n",
              "    [theme=dark] .colab-df-convert {\n",
              "      background-color: #3B4455;\n",
              "      fill: #D2E3FC;\n",
              "    }\n",
              "\n",
              "    [theme=dark] .colab-df-convert:hover {\n",
              "      background-color: #434B5C;\n",
              "      box-shadow: 0px 1px 3px 1px rgba(0, 0, 0, 0.15);\n",
              "      filter: drop-shadow(0px 1px 2px rgba(0, 0, 0, 0.3));\n",
              "      fill: #FFFFFF;\n",
              "    }\n",
              "  </style>\n",
              "\n",
              "      <script>\n",
              "        const buttonEl =\n",
              "          document.querySelector('#df-d5ec1c6d-db51-4816-a10d-73a6b3dc0026 button.colab-df-convert');\n",
              "        buttonEl.style.display =\n",
              "          google.colab.kernel.accessAllowed ? 'block' : 'none';\n",
              "\n",
              "        async function convertToInteractive(key) {\n",
              "          const element = document.querySelector('#df-d5ec1c6d-db51-4816-a10d-73a6b3dc0026');\n",
              "          const dataTable =\n",
              "            await google.colab.kernel.invokeFunction('convertToInteractive',\n",
              "                                                     [key], {});\n",
              "          if (!dataTable) return;\n",
              "\n",
              "          const docLinkHtml = 'Like what you see? Visit the ' +\n",
              "            '<a target=\"_blank\" href=https://colab.research.google.com/notebooks/data_table.ipynb>data table notebook</a>'\n",
              "            + ' to learn more about interactive tables.';\n",
              "          element.innerHTML = '';\n",
              "          dataTable['output_type'] = 'display_data';\n",
              "          await google.colab.output.renderOutput(dataTable, element);\n",
              "          const docLink = document.createElement('div');\n",
              "          docLink.innerHTML = docLinkHtml;\n",
              "          element.appendChild(docLink);\n",
              "        }\n",
              "      </script>\n",
              "    </div>\n",
              "  </div>\n",
              "  "
            ]
          },
          "metadata": {},
          "execution_count": 12
        }
      ]
    },
    {
      "cell_type": "code",
      "metadata": {
        "id": "Jhsutctagm21"
      },
      "source": [
        "# Заменим NaN датой с наибольшей частотой\n",
        "train_df['Cin_day'] = train_df['Cin_day'].fillna(26.0)\n",
        "train_df['Cin_month'] = train_df['Cin_month'].fillna(8.0)\n",
        "train_df['Cin_year'] = train_df['Cin_year'].fillna(2014.0)\n",
        "train_df['stay_dur'] = train_df['stay_dur'].fillna(1.0)\n",
        "train_df['no_of_days_bet_booking'] = train_df['no_of_days_bet_booking'].fillna(0.0)\n",
        "\n",
        "# Заменим NaN на среднее значение по столбцу\n",
        "train_df['orig_destination_distance'].fillna(train_df['orig_destination_distance'].mean(), inplace=True)"
      ],
      "execution_count": null,
      "outputs": []
    },
    {
      "cell_type": "markdown",
      "metadata": {
        "id": "UcXEB8CLgm22"
      },
      "source": [
        "# Предсказание\n",
        "\n",
        "Переходим непосредственно к построению рекомендательной системы. Напомним, что основная задача — порекомендовать пользователю отель в месте его назначения."
      ]
    },
    {
      "cell_type": "code",
      "source": [
        "import pandas as pd\n",
        "from sklearn.ensemble import RandomForestClassifier\n",
        "from sklearn.model_selection import train_test_split\n",
        "from sklearn.metrics import precision_score, recall_score, f1_score\n",
        "\n",
        "# 1. Загрузка данных\n",
        "data = pd.read_csv('/content/data/train.csv', nrows=90000)\n",
        "len(data)"
      ],
      "metadata": {
        "colab": {
          "base_uri": "https://localhost:8080/"
        },
        "id": "gdvX88VzNo0v",
        "outputId": "3c3ea7f2-ef03-4254-d3c0-caaf58c3dff4"
      },
      "execution_count": null,
      "outputs": [
        {
          "output_type": "execute_result",
          "data": {
            "text/plain": [
              "90000"
            ]
          },
          "metadata": {},
          "execution_count": 188
        }
      ]
    },
    {
      "cell_type": "code",
      "source": [
        "# Function to convert date object into relevant attributes\n",
        "def convert_date_into_days(df):\n",
        "    df['srch_ci'] = pd.to_datetime(df['srch_ci'])\n",
        "    df['srch_co'] = pd.to_datetime(df['srch_co'])\n",
        "    df['date_time'] = pd.to_datetime(df['date_time'])\n",
        "    \n",
        "    df['stay_dur'] = (df['srch_co'] - df['srch_ci']).astype('timedelta64[D]')\n",
        "    df['no_of_days_bet_booking'] = (df['srch_ci'] - df['date_time']).astype('timedelta64[D]')\n",
        "    \n",
        "    # For hotel check-in\n",
        "    # Month, Year, Day\n",
        "    df['Cin_day'] = df[\"srch_ci\"].apply(lambda x: x.day)\n",
        "    df['Cin_month'] = df[\"srch_ci\"].apply(lambda x: x.month)\n",
        "    df['Cin_year'] = df[\"srch_ci\"].apply(lambda x: x.year)"
      ],
      "metadata": {
        "id": "DTXz3aD-PQ2Z"
      },
      "execution_count": null,
      "outputs": []
    },
    {
      "cell_type": "code",
      "source": [
        "convert_date_into_days(data)"
      ],
      "metadata": {
        "id": "a_mmI1M5PZkM"
      },
      "execution_count": null,
      "outputs": []
    },
    {
      "cell_type": "code",
      "source": [
        "# Уберем ненужные признаки, которые не будут полезны для анализа и предсказания\n",
        "#test_user_id = test_df['user_id']\n",
        "columns = ['date_time', 'srch_ci','user_id','srch_destination_type_id','srch_destination_id', 'site_name', 'user_location_region', 'user_location_city', \n",
        "                              'user_id', 'srch_co', 'srch_adults_cnt', 'srch_children_cnt', 'srch_rm_cnt']\n",
        "data.drop(columns=columns,axis=1,inplace=True)\n"
      ],
      "metadata": {
        "id": "c4-XugaXOpKa"
      },
      "execution_count": null,
      "outputs": []
    },
    {
      "cell_type": "code",
      "source": [
        "# Определим процент значений NaN по каждому признаку\n",
        "total = data.isnull().sum().sort_values(ascending=False)\n",
        "percent = (data.isnull().sum()/data['hotel_cluster'].count()).sort_values(ascending=False)\n",
        "missing_data = pd.concat([total, percent], axis=1, keys=['Total', 'Percent'])\n",
        "missing_data"
      ],
      "metadata": {
        "colab": {
          "base_uri": "https://localhost:8080/",
          "height": 582
        },
        "id": "2vL93mUFOyOB",
        "outputId": "628a677b-3d38-4ca2-c814-4f1f1623b8f3"
      },
      "execution_count": null,
      "outputs": [
        {
          "output_type": "execute_result",
          "data": {
            "text/plain": [
              "                           Total   Percent\n",
              "orig_destination_distance  33236  0.369289\n",
              "Cin_year                      63  0.000700\n",
              "Cin_month                     63  0.000700\n",
              "Cin_day                       63  0.000700\n",
              "no_of_days_bet_booking        63  0.000700\n",
              "stay_dur                      63  0.000700\n",
              "hotel_country                  0  0.000000\n",
              "hotel_cluster                  0  0.000000\n",
              "hotel_market                   0  0.000000\n",
              "posa_continent                 0  0.000000\n",
              "user_location_country          0  0.000000\n",
              "cnt                            0  0.000000\n",
              "is_booking                     0  0.000000\n",
              "channel                        0  0.000000\n",
              "is_package                     0  0.000000\n",
              "is_mobile                      0  0.000000\n",
              "hotel_continent                0  0.000000"
            ],
            "text/html": [
              "\n",
              "  <div id=\"df-e841acb5-42d8-42b1-b83f-40e6afc56c33\">\n",
              "    <div class=\"colab-df-container\">\n",
              "      <div>\n",
              "<style scoped>\n",
              "    .dataframe tbody tr th:only-of-type {\n",
              "        vertical-align: middle;\n",
              "    }\n",
              "\n",
              "    .dataframe tbody tr th {\n",
              "        vertical-align: top;\n",
              "    }\n",
              "\n",
              "    .dataframe thead th {\n",
              "        text-align: right;\n",
              "    }\n",
              "</style>\n",
              "<table border=\"1\" class=\"dataframe\">\n",
              "  <thead>\n",
              "    <tr style=\"text-align: right;\">\n",
              "      <th></th>\n",
              "      <th>Total</th>\n",
              "      <th>Percent</th>\n",
              "    </tr>\n",
              "  </thead>\n",
              "  <tbody>\n",
              "    <tr>\n",
              "      <th>orig_destination_distance</th>\n",
              "      <td>33236</td>\n",
              "      <td>0.369289</td>\n",
              "    </tr>\n",
              "    <tr>\n",
              "      <th>Cin_year</th>\n",
              "      <td>63</td>\n",
              "      <td>0.000700</td>\n",
              "    </tr>\n",
              "    <tr>\n",
              "      <th>Cin_month</th>\n",
              "      <td>63</td>\n",
              "      <td>0.000700</td>\n",
              "    </tr>\n",
              "    <tr>\n",
              "      <th>Cin_day</th>\n",
              "      <td>63</td>\n",
              "      <td>0.000700</td>\n",
              "    </tr>\n",
              "    <tr>\n",
              "      <th>no_of_days_bet_booking</th>\n",
              "      <td>63</td>\n",
              "      <td>0.000700</td>\n",
              "    </tr>\n",
              "    <tr>\n",
              "      <th>stay_dur</th>\n",
              "      <td>63</td>\n",
              "      <td>0.000700</td>\n",
              "    </tr>\n",
              "    <tr>\n",
              "      <th>hotel_country</th>\n",
              "      <td>0</td>\n",
              "      <td>0.000000</td>\n",
              "    </tr>\n",
              "    <tr>\n",
              "      <th>hotel_cluster</th>\n",
              "      <td>0</td>\n",
              "      <td>0.000000</td>\n",
              "    </tr>\n",
              "    <tr>\n",
              "      <th>hotel_market</th>\n",
              "      <td>0</td>\n",
              "      <td>0.000000</td>\n",
              "    </tr>\n",
              "    <tr>\n",
              "      <th>posa_continent</th>\n",
              "      <td>0</td>\n",
              "      <td>0.000000</td>\n",
              "    </tr>\n",
              "    <tr>\n",
              "      <th>user_location_country</th>\n",
              "      <td>0</td>\n",
              "      <td>0.000000</td>\n",
              "    </tr>\n",
              "    <tr>\n",
              "      <th>cnt</th>\n",
              "      <td>0</td>\n",
              "      <td>0.000000</td>\n",
              "    </tr>\n",
              "    <tr>\n",
              "      <th>is_booking</th>\n",
              "      <td>0</td>\n",
              "      <td>0.000000</td>\n",
              "    </tr>\n",
              "    <tr>\n",
              "      <th>channel</th>\n",
              "      <td>0</td>\n",
              "      <td>0.000000</td>\n",
              "    </tr>\n",
              "    <tr>\n",
              "      <th>is_package</th>\n",
              "      <td>0</td>\n",
              "      <td>0.000000</td>\n",
              "    </tr>\n",
              "    <tr>\n",
              "      <th>is_mobile</th>\n",
              "      <td>0</td>\n",
              "      <td>0.000000</td>\n",
              "    </tr>\n",
              "    <tr>\n",
              "      <th>hotel_continent</th>\n",
              "      <td>0</td>\n",
              "      <td>0.000000</td>\n",
              "    </tr>\n",
              "  </tbody>\n",
              "</table>\n",
              "</div>\n",
              "      <button class=\"colab-df-convert\" onclick=\"convertToInteractive('df-e841acb5-42d8-42b1-b83f-40e6afc56c33')\"\n",
              "              title=\"Convert this dataframe to an interactive table.\"\n",
              "              style=\"display:none;\">\n",
              "        \n",
              "  <svg xmlns=\"http://www.w3.org/2000/svg\" height=\"24px\"viewBox=\"0 0 24 24\"\n",
              "       width=\"24px\">\n",
              "    <path d=\"M0 0h24v24H0V0z\" fill=\"none\"/>\n",
              "    <path d=\"M18.56 5.44l.94 2.06.94-2.06 2.06-.94-2.06-.94-.94-2.06-.94 2.06-2.06.94zm-11 1L8.5 8.5l.94-2.06 2.06-.94-2.06-.94L8.5 2.5l-.94 2.06-2.06.94zm10 10l.94 2.06.94-2.06 2.06-.94-2.06-.94-.94-2.06-.94 2.06-2.06.94z\"/><path d=\"M17.41 7.96l-1.37-1.37c-.4-.4-.92-.59-1.43-.59-.52 0-1.04.2-1.43.59L10.3 9.45l-7.72 7.72c-.78.78-.78 2.05 0 2.83L4 21.41c.39.39.9.59 1.41.59.51 0 1.02-.2 1.41-.59l7.78-7.78 2.81-2.81c.8-.78.8-2.07 0-2.86zM5.41 20L4 18.59l7.72-7.72 1.47 1.35L5.41 20z\"/>\n",
              "  </svg>\n",
              "      </button>\n",
              "      \n",
              "  <style>\n",
              "    .colab-df-container {\n",
              "      display:flex;\n",
              "      flex-wrap:wrap;\n",
              "      gap: 12px;\n",
              "    }\n",
              "\n",
              "    .colab-df-convert {\n",
              "      background-color: #E8F0FE;\n",
              "      border: none;\n",
              "      border-radius: 50%;\n",
              "      cursor: pointer;\n",
              "      display: none;\n",
              "      fill: #1967D2;\n",
              "      height: 32px;\n",
              "      padding: 0 0 0 0;\n",
              "      width: 32px;\n",
              "    }\n",
              "\n",
              "    .colab-df-convert:hover {\n",
              "      background-color: #E2EBFA;\n",
              "      box-shadow: 0px 1px 2px rgba(60, 64, 67, 0.3), 0px 1px 3px 1px rgba(60, 64, 67, 0.15);\n",
              "      fill: #174EA6;\n",
              "    }\n",
              "\n",
              "    [theme=dark] .colab-df-convert {\n",
              "      background-color: #3B4455;\n",
              "      fill: #D2E3FC;\n",
              "    }\n",
              "\n",
              "    [theme=dark] .colab-df-convert:hover {\n",
              "      background-color: #434B5C;\n",
              "      box-shadow: 0px 1px 3px 1px rgba(0, 0, 0, 0.15);\n",
              "      filter: drop-shadow(0px 1px 2px rgba(0, 0, 0, 0.3));\n",
              "      fill: #FFFFFF;\n",
              "    }\n",
              "  </style>\n",
              "\n",
              "      <script>\n",
              "        const buttonEl =\n",
              "          document.querySelector('#df-e841acb5-42d8-42b1-b83f-40e6afc56c33 button.colab-df-convert');\n",
              "        buttonEl.style.display =\n",
              "          google.colab.kernel.accessAllowed ? 'block' : 'none';\n",
              "\n",
              "        async function convertToInteractive(key) {\n",
              "          const element = document.querySelector('#df-e841acb5-42d8-42b1-b83f-40e6afc56c33');\n",
              "          const dataTable =\n",
              "            await google.colab.kernel.invokeFunction('convertToInteractive',\n",
              "                                                     [key], {});\n",
              "          if (!dataTable) return;\n",
              "\n",
              "          const docLinkHtml = 'Like what you see? Visit the ' +\n",
              "            '<a target=\"_blank\" href=https://colab.research.google.com/notebooks/data_table.ipynb>data table notebook</a>'\n",
              "            + ' to learn more about interactive tables.';\n",
              "          element.innerHTML = '';\n",
              "          dataTable['output_type'] = 'display_data';\n",
              "          await google.colab.output.renderOutput(dataTable, element);\n",
              "          const docLink = document.createElement('div');\n",
              "          docLink.innerHTML = docLinkHtml;\n",
              "          element.appendChild(docLink);\n",
              "        }\n",
              "      </script>\n",
              "    </div>\n",
              "  </div>\n",
              "  "
            ]
          },
          "metadata": {},
          "execution_count": 192
        }
      ]
    },
    {
      "cell_type": "code",
      "source": [
        "# Заменим NaN датой с наибольшей частотой\n",
        "data['Cin_day'] = data['Cin_day'].fillna(26.0)\n",
        "data['Cin_month'] = data['Cin_month'].fillna(8.0)\n",
        "data['Cin_year'] = data['Cin_year'].fillna(2014.0)\n",
        "data['stay_dur'] = data['stay_dur'].fillna(1.0)\n",
        "data['no_of_days_bet_booking'] = data['no_of_days_bet_booking'].fillna(0.0)\n",
        "\n",
        "# Заменим NaN на среднее значение по столбцу\n",
        "data['orig_destination_distance'].fillna(data['orig_destination_distance'].mean(), inplace=True)"
      ],
      "metadata": {
        "id": "XgjBWlU0O7Zg"
      },
      "execution_count": null,
      "outputs": []
    },
    {
      "cell_type": "code",
      "source": [
        "# 3. Разделение данных на обучающий и тестовый наборы\n",
        "X_train, X_test, y_train, y_test = train_test_split(data.drop(['hotel_cluster'], axis=1), data['hotel_cluster'], test_size=0.2)\n"
      ],
      "metadata": {
        "id": "VuSp-brVNxuJ"
      },
      "execution_count": null,
      "outputs": []
    },
    {
      "cell_type": "code",
      "source": [
        "from sklearn.ensemble import RandomForestClassifier\n",
        "from sklearn.model_selection import GridSearchCV\n",
        "\n",
        "# # Задаем значения параметров, которые нужно оптимизировать\n",
        "# param_grid = {\n",
        "#     'n_estimators': [50, 100, 150],\n",
        "#     'max_depth': [5, 10, 15],\n",
        "#     'min_samples_leaf': [1, 2, 4],\n",
        "# }\n",
        "\n",
        "# # Создаем модель случайного леса\n",
        "# clf = RandomForestClassifier(random_state=42)\n",
        "\n",
        "# # Находим оптимальные параметры с помощью поиска по сетке\n",
        "# grid_search = GridSearchCV(clf, param_grid=param_grid, cv=5)\n",
        "# grid_search.fit(X_train, y_train)\n",
        "\n",
        "# # Выводим наилучшие параметры\n",
        "# print(\"Best parameters:\", grid_search.best_params_)\n",
        "\n",
        "# Строим модель с наилучшими параметрами\n",
        "best_clf = RandomForestClassifier(n_estimators=150,\n",
        "                                   max_depth=15,\n",
        "                                   min_samples_leaf=1,\n",
        "                                   random_state=42)\n",
        "best_clf.fit(X_train, y_train)\n",
        "\n",
        "# Оценка качества модели\n",
        "y_pred = best_clf.predict(X_test)\n",
        "print(\"Precision:\", precision_score(y_test, y_pred, average='macro'))"
      ],
      "metadata": {
        "colab": {
          "base_uri": "https://localhost:8080/"
        },
        "id": "Iz3M2XN8aYQ6",
        "outputId": "cb532fba-cfa6-443f-c23e-a49309c0c6ab"
      },
      "execution_count": null,
      "outputs": [
        {
          "output_type": "stream",
          "name": "stdout",
          "text": [
            "Precision: 0.3396235000610647\n"
          ]
        }
      ]
    },
    {
      "cell_type": "code",
      "source": [
        "from sklearn.metrics import accuracy_score\n",
        "# Оценка качества модели\n",
        "accuracy = accuracy_score(y_test, y_pred)\n",
        "print(\"Accuracy: {:.2f}%\".format(accuracy*100))"
      ],
      "metadata": {
        "colab": {
          "base_uri": "https://localhost:8080/"
        },
        "id": "RluNLI8YajuE",
        "outputId": "56834de3-f73c-4024-ce8e-7bf87fdee12b"
      },
      "execution_count": null,
      "outputs": [
        {
          "output_type": "stream",
          "name": "stdout",
          "text": [
            "Accuracy: 27.72%\n"
          ]
        }
      ]
    },
    {
      "cell_type": "code",
      "source": [
        "test_data = pd.read_csv('/content/data/test_files/Soc_Net_Task_5_Test_File_0.csv')\n",
        "\n",
        "\n"
      ],
      "metadata": {
        "id": "5QDZk9OZQE_G"
      },
      "execution_count": null,
      "outputs": []
    },
    {
      "cell_type": "code",
      "source": [
        "convert_date_into_days(test_data)"
      ],
      "metadata": {
        "id": "xCqTbTYUQVNl"
      },
      "execution_count": null,
      "outputs": []
    },
    {
      "cell_type": "code",
      "source": [
        "test_data.drop(columns=columns,axis=1,inplace=True)"
      ],
      "metadata": {
        "id": "LFuZj0gAQY9n"
      },
      "execution_count": null,
      "outputs": []
    },
    {
      "cell_type": "code",
      "source": [
        "# Заменим NaN датой с наибольшей частотой\n",
        "test_data['Cin_day'] = test_data['Cin_day'].fillna(26.0)\n",
        "test_data['Cin_month'] = test_data['Cin_month'].fillna(8.0)\n",
        "test_data['Cin_year'] = test_data['Cin_year'].fillna(2014.0)\n",
        "test_data['stay_dur'] = test_data['stay_dur'].fillna(1.0)\n",
        "test_data['no_of_days_bet_booking'] =test_data['no_of_days_bet_booking'].fillna(0.0)\n",
        "\n",
        "# Заменим NaN на среднее значение по столбцу\n",
        "test_data['orig_destination_distance'].fillna(test_data['orig_destination_distance'].mean(), inplace=True)"
      ],
      "metadata": {
        "id": "kzc-sdsmQknO"
      },
      "execution_count": null,
      "outputs": []
    },
    {
      "cell_type": "code",
      "source": [
        "test_predictions = best_clf.predict_proba(test_data)\n",
        "# print(test_predictions)\n",
        "result = pd.DataFrame(test_predictions, columns=best_clf.classes_) # создание DataFrame с результатами\n",
        "result = result.apply(lambda x: x.sort_values(ascending=False).head(5).index.tolist(), axis=1) # выбор пяти наиболее вероятных кластеров для каждого запроса\n",
        "result = result.apply(lambda x: ' '.join(map(str, x))) # преобразование списка в строку\n",
        "print(result)\n",
        "result.index.name = 'id' # добавление имени индекса\n",
        "result.to_csv('/content/result.csv', header=True) # сохранение результата в файл\n"
      ],
      "metadata": {
        "id": "DMUz2ZvAVGqU"
      },
      "execution_count": null,
      "outputs": []
    }
  ]
}